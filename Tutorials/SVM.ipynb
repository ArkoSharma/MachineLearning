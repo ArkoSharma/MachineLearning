{
 "cells": [
  {
   "cell_type": "code",
   "execution_count": 12,
   "metadata": {
    "colab": {},
    "colab_type": "code",
    "id": "HjvVDVB4Q0WT"
   },
   "outputs": [],
   "source": [
    "import numpy as np\n",
    "import pandas as pd\n",
    "import matplotlib.pyplot as plt\n",
    "import seaborn as sns\n"
   ]
  },
  {
   "cell_type": "code",
   "execution_count": 13,
   "metadata": {
    "colab": {},
    "colab_type": "code",
    "id": "ux0-zMuDQ2rr"
   },
   "outputs": [],
   "source": [
    "%matplotlib inline"
   ]
  },
  {
   "cell_type": "code",
   "execution_count": 22,
   "metadata": {
    "colab": {
     "base_uri": "https://localhost:8080/",
     "height": 395
    },
    "colab_type": "code",
    "id": "NVZXoSaD_1iZ",
    "outputId": "2ceb505e-7f97-42ec-cf1a-cac8eea26fb2"
   },
   "outputs": [],
   "source": [
    "import pymc3 as pm3\n",
    "from sklearn import svm\n",
    "import numpy as np\n",
    "import numdifftools as ndt\n",
    "import pandas as pd\n",
    "from scipy.stats import norm\n",
    "import statsmodels.api as sm\n",
    "from statsmodels.base.model import GenericLikelihoodModel\n",
    "from scipy.optimize import minimize"
   ]
  },
  {
   "cell_type": "code",
   "execution_count": 31,
   "metadata": {},
   "outputs": [],
   "source": [
    "x1_mean = np.array([3,3])\n",
    "x1_cov  = np.array([[1,0],[0,1]])\n",
    "x1      = np.random.multivariate_normal(x1_mean, x1_cov, 100)\n",
    "x2_mean = np.array([3,6])\n",
    "x2_cov  = np.array([[2,0],[0,2]])\n",
    "x2      = np.random.multivariate_normal(x1_mean, x1_cov, 100)\n"
   ]
  },
  {
   "cell_type": "code",
   "execution_count": 32,
   "metadata": {},
   "outputs": [],
   "source": [
    "xa = [a[0] for a in x1]"
   ]
  },
  {
   "cell_type": "code",
   "execution_count": 33,
   "metadata": {},
   "outputs": [],
   "source": [
    "xb = [a[1] for a in x1]"
   ]
  },
  {
   "cell_type": "code",
   "execution_count": null,
   "metadata": {},
   "outputs": [],
   "source": []
  },
  {
   "cell_type": "code",
   "execution_count": 34,
   "metadata": {},
   "outputs": [
    {
     "data": {
      "image/png": "[encoded data removed]",
      "text/plain": [
       "<Figure size 432x288 with 1 Axes>"
      ]
     },
     "metadata": {},
     "output_type": "display_data"
    }
   ],
   "source": [
    "xc = [a[0] for a in x2]\n",
    "xd = [a[1] for a in x2]\n",
    "plt.scatter(xa,xb,color='red')\n",
    "plt.scatter(xc,xd,color='blue')\n",
    "plt.show()"
   ]
  },
  {
   "cell_type": "code",
   "execution_count": 35,
   "metadata": {},
   "outputs": [],
   "source": [
    "y1 = [1 for i in range(len(x1))]\n",
    "y2 = [-1 for i in range(len(x2))]"
   ]
  },
  {
   "cell_type": "code",
   "execution_count": 36,
   "metadata": {},
   "outputs": [
    {
     "name": "stdout",
     "output_type": "stream",
     "text": [
      "(200, 2)\n",
      "(200,)\n"
     ]
    }
   ],
   "source": [
    "y = y1 + y2\n",
    "y = np.asarray(y)\n",
    "x = np.append(x1,x2,axis = 0)\n",
    "print(x.shape)\n",
    "print(y.shape)"
   ]
  },
  {
   "cell_type": "code",
   "execution_count": 39,
   "metadata": {},
   "outputs": [
    {
     "data": {
      "image/png": "[encoded data removed]",
      "text/plain": [
       "<Figure size 432x288 with 1 Axes>"
      ]
     },
     "metadata": {},
     "output_type": "display_data"
    }
   ],
   "source": [
    "model  = svm.SVC(kernel = 'linear', C = 0.1)\n",
    "model  = model.fit(x,y)\n",
    "y_pred = model.predict(x)\n",
    "x1d    = x[np.where(y_pred == 1)]\n",
    "x2d    = x[np.where(y_pred == -1)]\n",
    "plt.scatter(x1d[:,0], x1d[:,1] , color = 'b')\n",
    "plt.scatter(x2d[:,0], x2d[:,1] , color = 'r')\n",
    "plt.show()"
   ]
  },
  {
   "cell_type": "code",
   "execution_count": 38,
   "metadata": {},
   "outputs": [],
   "source": [
    "y_out = model.predict(x)\n",
    "def plot_contours(ax,clf, xx, yy, **params):\n",
    "    z   = clf.predict(np.c_xx.ravel(), yy.ravel())\n",
    "    z   = z.reshape(xx.shape)\n",
    "    out = ax.contour(xx, yy, z, **params)\n",
    "    return out\n",
    "                \n",
    "def make_meshgrid(x, y, h = 0.02):\n",
    "    x_min, x_max = x.min() - 1, x.max() + 1\n",
    "    y_min, y_max = y.min() - 1, y.max() + 1\n",
    "    xx, yy       = np.meshgrid(np.arange(x_min, x_max, h), np.arange(y_min,y_max, h))\n",
    "    return xx,yy"
   ]
  },
  {
   "cell_type": "code",
   "execution_count": null,
   "metadata": {},
   "outputs": [],
   "source": []
  }
 ],
 "metadata": {
  "colab": {
   "name": "RegressionProject.ipynb",
   "provenance": [],
   "version": "0.3.2"
  },
  "kernelspec": {
   "display_name": "Python 3",
   "language": "python",
   "name": "python3"
  },
  "language_info": {
   "codemirror_mode": {
    "name": "ipython",
    "version": 3
   },
   "file_extension": ".py",
   "mimetype": "text/x-python",
   "name": "python",
   "nbconvert_exporter": "python",
   "pygments_lexer": "ipython3",
   "version": "3.5.2"
  }
 },
 "nbformat": 4,
 "nbformat_minor": 1
}
